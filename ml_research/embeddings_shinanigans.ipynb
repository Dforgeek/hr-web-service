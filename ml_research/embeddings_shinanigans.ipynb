{
 "cells": [
  {
   "cell_type": "code",
   "execution_count": 2,
   "id": "initial_id",
   "metadata": {
    "collapsed": true,
    "ExecuteTime": {
     "end_time": "2023-11-10T11:48:22.509925800Z",
     "start_time": "2023-11-10T11:48:21.471704500Z"
    }
   },
   "outputs": [
    {
     "data": {
      "text/plain": "                                            Position      Sex   Age  \\\n0                            Системный администратор  Мужчина  40.0   \n1                               Администратор-кассир  Женщина  22.0   \n2  Производственный руководитель, начальник участ...  Мужчина  38.0   \n3     Специалист по охране окружающей среды (эколог)  Женщина  33.0   \n4                          Оператор 1с, Товаровед 1с  Женщина  38.0   \n\n            City  Is_Relocation_Ready  Is_Business_Trip_Ready  \\\n0        Колпино                False                    True   \n1   Екатеринбург                 True                    True   \n2         Москва                 True                    True   \n3  Новый Уренгой                 True                    True   \n4     Красноярск                False                   False   \n\n                                     Specializations  \\\n0                            Системный администратор   \n1  Оператор ПК, оператор базы данных, Делопроизво...   \n2  Начальник производства, Начальник смены, масте...   \n3  Инженер по охране труда и технике безопасности...   \n4                  Оператор ПК, оператор базы данных   \n\n                                          Employment  \\\n0              частичная занятость, проектная работа   \n1              полная занятость, частичная занятость   \n2  полная занятость, частичная занятость, проектн...   \n3              полная занятость, частичная занятость   \n4                                   полная занятость   \n\n                                       Work_Schedule  Desired_Salary  ...  \\\n0    сменный график, гибкий график, удаленная работа             NaN  ...   \n1                      сменный график, гибкий график         45000.0  ...   \n2  полный день, сменный график, гибкий график, уд...             NaN  ...   \n3  полный день, сменный график, гибкий график, уд...             NaN  ...   \n4                                        полный день         50000.0  ...   \n\n                                              Skills  \\\n0  Windows Server 2003/2008R2/2012R2 на уровне ад...   \n1  Пользователь Autocad, Arhicad, Пользователь wo...   \n2  Коммуникабельность, Мобильность, Пунктуальност...   \n3  Проведение тренинга для новых сотрудников, Орг...   \n4  1С: Торговля и склад, Складской Учет, ТТН, Вво...   \n\n                                           Languages  \\\n0                  Русский - Родной, Английский - A1   \n1                                   Русский - Родной   \n2  Русский - Родной, Английский - A1, Китайский - A1   \n3                  Русский - Родной, Английский - B2   \n4                                   Русский - Родной   \n\n                                           Education  \\\n0  Российский государственный гидрометеорологичес...   \n1  УКТП - Строительство и эксплуатация зданий и с...   \n2  Алма атинская Академия Бизнеса - Управление пе...   \n3  ООО Образовательный центр «Техноимпульс» - Упр...   \n4         Красноярский Монтажный колледж - Экономист   \n\n                                             Courses Has_Car  \\\n0  Mikrotik MTCNA - SPW, Корпоративная IP-телефон...    True   \n1                                                NaN   False   \n2                                                NaN   False   \n3  Обеспечение экологической безопасности руковод...   False   \n4  ЧУП\"ЭЛИТА СЕРВИС\" - ЧУП\"ЭЛИТА СЕРВИС\", маникюр...   False   \n\n  Driving_Categories                                           About_Me  \\\n0                  B  Сертификаты от Microsoft: MTA: Windows Server®...   \n1                NaN        Быстро учусь. Ответственно подхожу к работе   \n2                  B  Азартен в работе. Не приемлю полумер. Увлекаюс...   \n3                  B  Я трудолюбивый и ответственный человек, требов...   \n4                  B  Приятная внешность, коммуникабельная,ответстве...   \n\n           Job_Search_Status  \\\n0  Рассматривает предложения   \n1        Активно ищет работу   \n2  Рассматривает предложения   \n3        Активно ищет работу   \n4        Активно ищет работу   \n\n                                                 URL  \\\n0  https://spb.hh.ru/resume/12275fe400043bd2ee003...   \n1  https://spb.hh.ru/resume/c3ad30c90007195c21003...   \n2  https://spb.hh.ru/resume/9f3bb5f70001fae21e003...   \n3  https://spb.hh.ru/resume/c730fa57000435d95e003...   \n4  https://spb.hh.ru/resume/79b35d240000eb1a51003...   \n\n                                          Embeddings  \n0  [0.32768160104751587, 0.08176106214523315, -0....  \n1  [0.345800518989563, 0.1473490446805954, -1.682...  \n2  [1.0071132183074951, 0.1831478774547577, -1.17...  \n3  [0.21396110951900482, 0.12703493237495422, -1....  \n4  [0.4720255434513092, 0.23111078143119812, -1.5...  \n\n[5 rows x 22 columns]",
      "text/html": "<div>\n<style scoped>\n    .dataframe tbody tr th:only-of-type {\n        vertical-align: middle;\n    }\n\n    .dataframe tbody tr th {\n        vertical-align: top;\n    }\n\n    .dataframe thead th {\n        text-align: right;\n    }\n</style>\n<table border=\"1\" class=\"dataframe\">\n  <thead>\n    <tr style=\"text-align: right;\">\n      <th></th>\n      <th>Position</th>\n      <th>Sex</th>\n      <th>Age</th>\n      <th>City</th>\n      <th>Is_Relocation_Ready</th>\n      <th>Is_Business_Trip_Ready</th>\n      <th>Specializations</th>\n      <th>Employment</th>\n      <th>Work_Schedule</th>\n      <th>Desired_Salary</th>\n      <th>...</th>\n      <th>Skills</th>\n      <th>Languages</th>\n      <th>Education</th>\n      <th>Courses</th>\n      <th>Has_Car</th>\n      <th>Driving_Categories</th>\n      <th>About_Me</th>\n      <th>Job_Search_Status</th>\n      <th>URL</th>\n      <th>Embeddings</th>\n    </tr>\n  </thead>\n  <tbody>\n    <tr>\n      <th>0</th>\n      <td>Системный администратор</td>\n      <td>Мужчина</td>\n      <td>40.0</td>\n      <td>Колпино</td>\n      <td>False</td>\n      <td>True</td>\n      <td>Системный администратор</td>\n      <td>частичная занятость, проектная работа</td>\n      <td>сменный график, гибкий график, удаленная работа</td>\n      <td>NaN</td>\n      <td>...</td>\n      <td>Windows Server 2003/2008R2/2012R2 на уровне ад...</td>\n      <td>Русский - Родной, Английский - A1</td>\n      <td>Российский государственный гидрометеорологичес...</td>\n      <td>Mikrotik MTCNA - SPW, Корпоративная IP-телефон...</td>\n      <td>True</td>\n      <td>B</td>\n      <td>Сертификаты от Microsoft: MTA: Windows Server®...</td>\n      <td>Рассматривает предложения</td>\n      <td>https://spb.hh.ru/resume/12275fe400043bd2ee003...</td>\n      <td>[0.32768160104751587, 0.08176106214523315, -0....</td>\n    </tr>\n    <tr>\n      <th>1</th>\n      <td>Администратор-кассир</td>\n      <td>Женщина</td>\n      <td>22.0</td>\n      <td>Екатеринбург</td>\n      <td>True</td>\n      <td>True</td>\n      <td>Оператор ПК, оператор базы данных, Делопроизво...</td>\n      <td>полная занятость, частичная занятость</td>\n      <td>сменный график, гибкий график</td>\n      <td>45000.0</td>\n      <td>...</td>\n      <td>Пользователь Autocad, Arhicad, Пользователь wo...</td>\n      <td>Русский - Родной</td>\n      <td>УКТП - Строительство и эксплуатация зданий и с...</td>\n      <td>NaN</td>\n      <td>False</td>\n      <td>NaN</td>\n      <td>Быстро учусь. Ответственно подхожу к работе</td>\n      <td>Активно ищет работу</td>\n      <td>https://spb.hh.ru/resume/c3ad30c90007195c21003...</td>\n      <td>[0.345800518989563, 0.1473490446805954, -1.682...</td>\n    </tr>\n    <tr>\n      <th>2</th>\n      <td>Производственный руководитель, начальник участ...</td>\n      <td>Мужчина</td>\n      <td>38.0</td>\n      <td>Москва</td>\n      <td>True</td>\n      <td>True</td>\n      <td>Начальник производства, Начальник смены, масте...</td>\n      <td>полная занятость, частичная занятость, проектн...</td>\n      <td>полный день, сменный график, гибкий график, уд...</td>\n      <td>NaN</td>\n      <td>...</td>\n      <td>Коммуникабельность, Мобильность, Пунктуальност...</td>\n      <td>Русский - Родной, Английский - A1, Китайский - A1</td>\n      <td>Алма атинская Академия Бизнеса - Управление пе...</td>\n      <td>NaN</td>\n      <td>False</td>\n      <td>B</td>\n      <td>Азартен в работе. Не приемлю полумер. Увлекаюс...</td>\n      <td>Рассматривает предложения</td>\n      <td>https://spb.hh.ru/resume/9f3bb5f70001fae21e003...</td>\n      <td>[1.0071132183074951, 0.1831478774547577, -1.17...</td>\n    </tr>\n    <tr>\n      <th>3</th>\n      <td>Специалист по охране окружающей среды (эколог)</td>\n      <td>Женщина</td>\n      <td>33.0</td>\n      <td>Новый Уренгой</td>\n      <td>True</td>\n      <td>True</td>\n      <td>Инженер по охране труда и технике безопасности...</td>\n      <td>полная занятость, частичная занятость</td>\n      <td>полный день, сменный график, гибкий график, уд...</td>\n      <td>NaN</td>\n      <td>...</td>\n      <td>Проведение тренинга для новых сотрудников, Орг...</td>\n      <td>Русский - Родной, Английский - B2</td>\n      <td>ООО Образовательный центр «Техноимпульс» - Упр...</td>\n      <td>Обеспечение экологической безопасности руковод...</td>\n      <td>False</td>\n      <td>B</td>\n      <td>Я трудолюбивый и ответственный человек, требов...</td>\n      <td>Активно ищет работу</td>\n      <td>https://spb.hh.ru/resume/c730fa57000435d95e003...</td>\n      <td>[0.21396110951900482, 0.12703493237495422, -1....</td>\n    </tr>\n    <tr>\n      <th>4</th>\n      <td>Оператор 1с, Товаровед 1с</td>\n      <td>Женщина</td>\n      <td>38.0</td>\n      <td>Красноярск</td>\n      <td>False</td>\n      <td>False</td>\n      <td>Оператор ПК, оператор базы данных</td>\n      <td>полная занятость</td>\n      <td>полный день</td>\n      <td>50000.0</td>\n      <td>...</td>\n      <td>1С: Торговля и склад, Складской Учет, ТТН, Вво...</td>\n      <td>Русский - Родной</td>\n      <td>Красноярский Монтажный колледж - Экономист</td>\n      <td>ЧУП\"ЭЛИТА СЕРВИС\" - ЧУП\"ЭЛИТА СЕРВИС\", маникюр...</td>\n      <td>False</td>\n      <td>B</td>\n      <td>Приятная внешность, коммуникабельная,ответстве...</td>\n      <td>Активно ищет работу</td>\n      <td>https://spb.hh.ru/resume/79b35d240000eb1a51003...</td>\n      <td>[0.4720255434513092, 0.23111078143119812, -1.5...</td>\n    </tr>\n  </tbody>\n</table>\n<p>5 rows × 22 columns</p>\n</div>"
     },
     "execution_count": 2,
     "metadata": {},
     "output_type": "execute_result"
    }
   ],
   "source": [
    "import pandas as pd\n",
    "\n",
    "resume_data = pd.read_csv('resume_data_n_embeddings.csv', index_col=0)\n",
    "resume_data.head()"
   ]
  },
  {
   "cell_type": "code",
   "execution_count": 3,
   "outputs": [
    {
     "data": {
      "text/plain": "Position                                                Ведущий разработчик\nSex                                                                 Мужчина\nAge                                                                    39.0\nCity                                                                 Алматы\nIs_Relocation_Ready                                                   False\nIs_Business_Trip_Ready                                                 True\nSpecializations           Программист, разработчик, Архитектор, Руководи...\nEmployment                полная занятость, частичная занятость, проектн...\nWork_Schedule             полный день, сменный график, гибкий график, уд...\nDesired_Salary                                                          NaN\nTotal_Experience                                                      21.83\nPrevious_Positions        Ведущий консультант-разработчик, Ведущий консу...\nSkills                    Cистемы управления базами данных, Joomla CMS, ...\nLanguages                               Казахский - Родной, Английский - B1\nEducation                 Алматинский институт энергетики и связи - Ради...\nCourses                                                                 NaN\nHas_Car                                                               False\nDriving_Categories                                                      NaN\nAbout_Me                  Разработка ПО, БД и СУБД. Внедрение, сопровожд...\nJob_Search_Status                                 Предложили работу, решает\nURL                       https://spb.hh.ru/resume/8e7076e000015804ff003...\nEmbeddings                [0.550189733505249, 0.298458456993103, -1.3737...\nName: 1300, dtype: object"
     },
     "execution_count": 3,
     "metadata": {},
     "output_type": "execute_result"
    }
   ],
   "source": [
    "resume_data.iloc[1300]"
   ],
   "metadata": {
    "collapsed": false,
    "ExecuteTime": {
     "end_time": "2023-11-10T11:49:05.014376300Z",
     "start_time": "2023-11-10T11:49:04.990400700Z"
    }
   },
   "id": "5749261aff08e8d2"
  },
  {
   "cell_type": "code",
   "execution_count": null,
   "outputs": [],
   "source": [],
   "metadata": {
    "collapsed": false
   },
   "id": "b54b5bcf2431b88"
  }
 ],
 "metadata": {
  "kernelspec": {
   "display_name": "Python 3",
   "language": "python",
   "name": "python3"
  },
  "language_info": {
   "codemirror_mode": {
    "name": "ipython",
    "version": 2
   },
   "file_extension": ".py",
   "mimetype": "text/x-python",
   "name": "python",
   "nbconvert_exporter": "python",
   "pygments_lexer": "ipython2",
   "version": "2.7.6"
  }
 },
 "nbformat": 4,
 "nbformat_minor": 5
}
